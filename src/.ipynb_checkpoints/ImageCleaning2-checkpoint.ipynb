{
 "cells": [
  {
   "cell_type": "code",
   "execution_count": 1,
   "metadata": {},
   "outputs": [],
   "source": [
    "import numpy as np\n",
    "import numpy.matlib\n",
    "import tensorflow as tf\n",
    "import scipy.io as sio\n",
    "import time\n",
    "from sklearn.model_selection import train_test_split\n",
    "\n",
    "import utils as utils\n",
    "import image_generation as imgen\n",
    "from imshow3D import imshow3D\n",
    "\n",
    "import matplotlib.pyplot as plt\n",
    "%matplotlib inline "
   ]
  },
  {
   "cell_type": "markdown",
   "metadata": {},
   "source": [
    "## Generate Dataset"
   ]
  },
  {
   "cell_type": "code",
   "execution_count": 2,
   "metadata": {},
   "outputs": [
    {
     "name": "stdout",
     "output_type": "stream",
     "text": [
      "Time elapsed in data generation: 890.246 seconds\n"
     ]
    }
   ],
   "source": [
    "n_images = 50000\n",
    "slices = [x for x in range(14, 114, 5)]\n",
    "sizeI = np.array([64,64,128])\n",
    "sigmaPts = {280:1.5*np.array([1,1,1]), 140:1.75*np.array([1,1,1]), 70:2*np.array([1,1,1])}\n",
    "im_range = {'lower':0.2, 'upper':0.2, 'gap':0.6}\n",
    "gauss_noise = {'mean':0, 'std':0.01}\n",
    "snr = 12\n",
    "psf = sio.loadmat('../data/psf.mat')\n",
    "psf = psf['psf']\n",
    "\n",
    "\n",
    "start = time.time()\n",
    "\n",
    "X_train, y_train = imgen.create_im_2D(n_images, sizeI, slices, sigmaPts, psf,snr=snr, \n",
    "                            im_range=im_range, gauss_noise=gauss_noise)\n",
    "\n",
    "end = time.time()\n",
    "print('Time elapsed in data generation: %0.3f seconds' % (end - start))"
   ]
  },
  {
   "cell_type": "code",
   "execution_count": 3,
   "metadata": {},
   "outputs": [
    {
     "data": {
      "application/vnd.jupyter.widget-view+json": {
       "model_id": "1e3d71056d304e0780e8b3d325663fc6",
       "version_major": 2,
       "version_minor": 0
      },
      "text/plain": [
       "interactive(children=(RadioButtons(description='Slice plane selection:', index=1, options=('x-y', 'y-z', 'z-x'…"
      ]
     },
     "metadata": {},
     "output_type": "display_data"
    },
    {
     "data": {
      "text/plain": [
       "<imshow3D.imshow3D at 0x7fac61d96518>"
      ]
     },
     "execution_count": 3,
     "metadata": {},
     "output_type": "execute_result"
    }
   ],
   "source": [
    "imshow3D(np.squeeze(np.append(X_train, y_train, axis=2)), 0, (12,12))"
   ]
  },
  {
   "cell_type": "code",
   "execution_count": 4,
   "metadata": {},
   "outputs": [],
   "source": [
    "# Split test train\n",
    "X_train, X_test, y_train, y_test = train_test_split(X_train, y_train, test_size=0.10)"
   ]
  },
  {
   "cell_type": "code",
   "execution_count": null,
   "metadata": {},
   "outputs": [],
   "source": []
  }
 ],
 "metadata": {
  "kernelspec": {
   "display_name": "Python 3",
   "language": "python",
   "name": "python3"
  },
  "language_info": {
   "codemirror_mode": {
    "name": "ipython",
    "version": 3
   },
   "file_extension": ".py",
   "mimetype": "text/x-python",
   "name": "python",
   "nbconvert_exporter": "python",
   "pygments_lexer": "ipython3",
   "version": "3.6.6"
  }
 },
 "nbformat": 4,
 "nbformat_minor": 2
}
